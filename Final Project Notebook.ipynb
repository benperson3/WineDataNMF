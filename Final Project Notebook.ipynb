{
 "cells": [
  {
   "cell_type": "markdown",
   "id": "caf37465",
   "metadata": {},
   "source": [
    "## 1: Intro, libraries, and EDA\n",
    "\n",
    "For my ML project, I wanted to find an interesting and easily accessible data set. This is the red wine quality set from Kaggle; I've seen this used before, and it's provides a lot of intersting features to review and work with. I think with its number of features, and being an intriguing topic, this will make a great project.\n",
    "\n",
    "Data Set: https://www.kaggle.com/datasets/uciml/red-wine-quality-cortez-et-al-2009"
   ]
  },
  {
   "cell_type": "code",
   "execution_count": 1,
   "id": "79490daf",
   "metadata": {},
   "outputs": [],
   "source": [
    "#import libraries\n",
    "import pandas as pd\n",
    "import numpy as np\n",
    "from sklearn.feature_extraction.text import CountVectorizer\n",
    "from sklearn.neighbors import KNeighborsClassifier\n",
    "from sklearn.decomposition import NMF\n",
    "from sklearn.metrics import confusion_matrix, ConfusionMatrixDisplay\n",
    "from sklearn.model_selection import train_test_split\n",
    "from sklearn.ensemble import RandomForestClassifier\n",
    "import matplotlib.pyplot as plt\n",
    "import statistics\n",
    "import re\n",
    "import string\n",
    "import math"
   ]
  },
  {
   "cell_type": "code",
   "execution_count": 2,
   "id": "d00defd3",
   "metadata": {},
   "outputs": [
    {
     "data": {
      "text/html": [
       "<div>\n",
       "<style scoped>\n",
       "    .dataframe tbody tr th:only-of-type {\n",
       "        vertical-align: middle;\n",
       "    }\n",
       "\n",
       "    .dataframe tbody tr th {\n",
       "        vertical-align: top;\n",
       "    }\n",
       "\n",
       "    .dataframe thead th {\n",
       "        text-align: right;\n",
       "    }\n",
       "</style>\n",
       "<table border=\"1\" class=\"dataframe\">\n",
       "  <thead>\n",
       "    <tr style=\"text-align: right;\">\n",
       "      <th></th>\n",
       "      <th>fixed acidity</th>\n",
       "      <th>volatile acidity</th>\n",
       "      <th>citric acid</th>\n",
       "      <th>residual sugar</th>\n",
       "      <th>chlorides</th>\n",
       "      <th>free sulfur dioxide</th>\n",
       "      <th>total sulfur dioxide</th>\n",
       "      <th>density</th>\n",
       "      <th>pH</th>\n",
       "      <th>sulphates</th>\n",
       "      <th>alcohol</th>\n",
       "      <th>quality</th>\n",
       "    </tr>\n",
       "  </thead>\n",
       "  <tbody>\n",
       "    <tr>\n",
       "      <th>0</th>\n",
       "      <td>7.4</td>\n",
       "      <td>0.70</td>\n",
       "      <td>0.00</td>\n",
       "      <td>1.9</td>\n",
       "      <td>0.076</td>\n",
       "      <td>11.0</td>\n",
       "      <td>34.0</td>\n",
       "      <td>0.9978</td>\n",
       "      <td>3.51</td>\n",
       "      <td>0.56</td>\n",
       "      <td>9.4</td>\n",
       "      <td>5</td>\n",
       "    </tr>\n",
       "    <tr>\n",
       "      <th>1</th>\n",
       "      <td>7.8</td>\n",
       "      <td>0.88</td>\n",
       "      <td>0.00</td>\n",
       "      <td>2.6</td>\n",
       "      <td>0.098</td>\n",
       "      <td>25.0</td>\n",
       "      <td>67.0</td>\n",
       "      <td>0.9968</td>\n",
       "      <td>3.20</td>\n",
       "      <td>0.68</td>\n",
       "      <td>9.8</td>\n",
       "      <td>5</td>\n",
       "    </tr>\n",
       "    <tr>\n",
       "      <th>2</th>\n",
       "      <td>7.8</td>\n",
       "      <td>0.76</td>\n",
       "      <td>0.04</td>\n",
       "      <td>2.3</td>\n",
       "      <td>0.092</td>\n",
       "      <td>15.0</td>\n",
       "      <td>54.0</td>\n",
       "      <td>0.9970</td>\n",
       "      <td>3.26</td>\n",
       "      <td>0.65</td>\n",
       "      <td>9.8</td>\n",
       "      <td>5</td>\n",
       "    </tr>\n",
       "    <tr>\n",
       "      <th>3</th>\n",
       "      <td>11.2</td>\n",
       "      <td>0.28</td>\n",
       "      <td>0.56</td>\n",
       "      <td>1.9</td>\n",
       "      <td>0.075</td>\n",
       "      <td>17.0</td>\n",
       "      <td>60.0</td>\n",
       "      <td>0.9980</td>\n",
       "      <td>3.16</td>\n",
       "      <td>0.58</td>\n",
       "      <td>9.8</td>\n",
       "      <td>6</td>\n",
       "    </tr>\n",
       "    <tr>\n",
       "      <th>4</th>\n",
       "      <td>7.4</td>\n",
       "      <td>0.70</td>\n",
       "      <td>0.00</td>\n",
       "      <td>1.9</td>\n",
       "      <td>0.076</td>\n",
       "      <td>11.0</td>\n",
       "      <td>34.0</td>\n",
       "      <td>0.9978</td>\n",
       "      <td>3.51</td>\n",
       "      <td>0.56</td>\n",
       "      <td>9.4</td>\n",
       "      <td>5</td>\n",
       "    </tr>\n",
       "  </tbody>\n",
       "</table>\n",
       "</div>"
      ],
      "text/plain": [
       "   fixed acidity  volatile acidity  citric acid  residual sugar  chlorides  \\\n",
       "0            7.4              0.70         0.00             1.9      0.076   \n",
       "1            7.8              0.88         0.00             2.6      0.098   \n",
       "2            7.8              0.76         0.04             2.3      0.092   \n",
       "3           11.2              0.28         0.56             1.9      0.075   \n",
       "4            7.4              0.70         0.00             1.9      0.076   \n",
       "\n",
       "   free sulfur dioxide  total sulfur dioxide  density    pH  sulphates  \\\n",
       "0                 11.0                  34.0   0.9978  3.51       0.56   \n",
       "1                 25.0                  67.0   0.9968  3.20       0.68   \n",
       "2                 15.0                  54.0   0.9970  3.26       0.65   \n",
       "3                 17.0                  60.0   0.9980  3.16       0.58   \n",
       "4                 11.0                  34.0   0.9978  3.51       0.56   \n",
       "\n",
       "   alcohol  quality  \n",
       "0      9.4        5  \n",
       "1      9.8        5  \n",
       "2      9.8        5  \n",
       "3      9.8        6  \n",
       "4      9.4        5  "
      ]
     },
     "execution_count": 2,
     "metadata": {},
     "output_type": "execute_result"
    }
   ],
   "source": [
    "#import data\n",
    "data = pd.read_csv('winequality-red.csv')\n",
    "data.head()"
   ]
  },
  {
   "cell_type": "code",
   "execution_count": 3,
   "id": "5118c4d3",
   "metadata": {},
   "outputs": [
    {
     "name": "stdout",
     "output_type": "stream",
     "text": [
      "<class 'pandas.core.frame.DataFrame'>\n",
      "RangeIndex: 1599 entries, 0 to 1598\n",
      "Data columns (total 12 columns):\n",
      " #   Column                Non-Null Count  Dtype  \n",
      "---  ------                --------------  -----  \n",
      " 0   fixed acidity         1599 non-null   float64\n",
      " 1   volatile acidity      1599 non-null   float64\n",
      " 2   citric acid           1599 non-null   float64\n",
      " 3   residual sugar        1599 non-null   float64\n",
      " 4   chlorides             1599 non-null   float64\n",
      " 5   free sulfur dioxide   1599 non-null   float64\n",
      " 6   total sulfur dioxide  1599 non-null   float64\n",
      " 7   density               1599 non-null   float64\n",
      " 8   pH                    1599 non-null   float64\n",
      " 9   sulphates             1599 non-null   float64\n",
      " 10  alcohol               1599 non-null   float64\n",
      " 11  quality               1599 non-null   int64  \n",
      "dtypes: float64(11), int64(1)\n",
      "memory usage: 150.0 KB\n"
     ]
    }
   ],
   "source": [
    "#review data\n",
    "data.info()"
   ]
  },
  {
   "cell_type": "code",
   "execution_count": 4,
   "id": "f3cd0d31",
   "metadata": {},
   "outputs": [
    {
     "name": "stdout",
     "output_type": "stream",
     "text": [
      "fixed acidity : {min: 4.6 , max: 15.9 }\n"
     ]
    },
    {
     "data": {
      "image/png": "[encoded data removed]",
      "text/plain": [
       "<Figure size 432x288 with 1 Axes>"
      ]
     },
     "metadata": {
      "needs_background": "light"
     },
     "output_type": "display_data"
    },
    {
     "name": "stdout",
     "output_type": "stream",
     "text": [
      "volatile acidity : {min: 0.12 , max: 1.58 }\n"
     ]
    },
    {
     "data": {
      "image/png": "[encoded data removed]",
      "text/plain": [
       "<Figure size 432x288 with 1 Axes>"
      ]
     },
     "metadata": {
      "needs_background": "light"
     },
     "output_type": "display_data"
    },
    {
     "name": "stdout",
     "output_type": "stream",
     "text": [
      "citric acid : {min: 0.0 , max: 1.0 }\n"
     ]
    },
    {
     "data": {
      "image/png": "[encoded data removed]",
      "text/plain": [
       "<Figure size 432x288 with 1 Axes>"
      ]
     },
     "metadata": {
      "needs_background": "light"
     },
     "output_type": "display_data"
    },
    {
     "name": "stdout",
     "output_type": "stream",
     "text": [
      "residual sugar : {min: 0.9 , max: 15.5 }\n"
     ]
    },
    {
     "data": {
      "image/png": "[encoded data removed]",
      "text/plain": [
       "<Figure size 432x288 with 1 Axes>"
      ]
     },
     "metadata": {
      "needs_background": "light"
     },
     "output_type": "display_data"
    },
    {
     "name": "stdout",
     "output_type": "stream",
     "text": [
      "chlorides : {min: 0.012 , max: 0.611 }\n"
     ]
    },
    {
     "data": {
      "image/png": "[encoded data removed]",
      "text/plain": [
       "<Figure size 432x288 with 1 Axes>"
      ]
     },
     "metadata": {
      "needs_background": "light"
     },
     "output_type": "display_data"
    },
    {
     "name": "stdout",
     "output_type": "stream",
     "text": [
      "free sulfur dioxide : {min: 1.0 , max: 72.0 }\n"
     ]
    },
    {
     "data": {
      "image/png": "[encoded data removed]",
      "text/plain": [
       "<Figure size 432x288 with 1 Axes>"
      ]
     },
     "metadata": {
      "needs_background": "light"
     },
     "output_type": "display_data"
    },
    {
     "name": "stdout",
     "output_type": "stream",
     "text": [
      "total sulfur dioxide : {min: 6.0 , max: 289.0 }\n"
     ]
    },
    {
     "data": {
      "image/png": "[encoded data removed]",
      "text/plain": [
       "<Figure size 432x288 with 1 Axes>"
      ]
     },
     "metadata": {
      "needs_background": "light"
     },
     "output_type": "display_data"
    },
    {
     "name": "stdout",
     "output_type": "stream",
     "text": [
      "density : {min: 0.99007 , max: 1.00369 }\n"
     ]
    },
    {
     "data": {
      "image/png": "[encoded data removed]",
      "text/plain": [
       "<Figure size 432x288 with 1 Axes>"
      ]
     },
     "metadata": {
      "needs_background": "light"
     },
     "output_type": "display_data"
    },
    {
     "name": "stdout",
     "output_type": "stream",
     "text": [
      "pH : {min: 2.74 , max: 4.01 }\n"
     ]
    },
    {
     "data": {
      "image/png": "[encoded data removed]",
      "text/plain": [
       "<Figure size 432x288 with 1 Axes>"
      ]
     },
     "metadata": {
      "needs_background": "light"
     },
     "output_type": "display_data"
    },
    {
     "name": "stdout",
     "output_type": "stream",
     "text": [
      "sulphates : {min: 0.33 , max: 2.0 }\n"
     ]
    },
    {
     "data": {
      "image/png": "[encoded data removed]",
      "text/plain": [
       "<Figure size 432x288 with 1 Axes>"
      ]
     },
     "metadata": {
      "needs_background": "light"
     },
     "output_type": "display_data"
    },
    {
     "name": "stdout",
     "output_type": "stream",
     "text": [
      "alcohol : {min: 8.4 , max: 14.9 }\n"
     ]
    },
    {
     "data": {
      "image/png": "[encoded data removed]",
      "text/plain": [
       "<Figure size 432x288 with 1 Axes>"
      ]
     },
     "metadata": {
      "needs_background": "light"
     },
     "output_type": "display_data"
    },
    {
     "name": "stdout",
     "output_type": "stream",
     "text": [
      "quality : {min: 3 , max: 8 }\n"
     ]
    },
    {
     "data": {
      "image/png": "[encoded data removed]",
      "text/plain": [
       "<Figure size 432x288 with 1 Axes>"
      ]
     },
     "metadata": {
      "needs_background": "light"
     },
     "output_type": "display_data"
    }
   ],
   "source": [
    "#histograms of features\n",
    "for x in ['fixed acidity','volatile acidity', 'citric acid', 'residual sugar', 'chlorides', 'free sulfur dioxide',\n",
    "         'total sulfur dioxide', 'density', 'pH', 'sulphates', 'alcohol', 'quality']:\n",
    "    print(x, \": {min:\", min(data[x]), \", max:\", max(data[x]), \"}\")\n",
    "    data[x].hist()\n",
    "    plt.title(x)\n",
    "    plt.show()"
   ]
  },
  {
   "cell_type": "markdown",
   "id": "2fe1d258",
   "metadata": {},
   "source": [
    "These histograms really give good context for our features. Several seem to have guassian distribution (pH, quality), or an assymetrical curve (fixed acidity, volatile acidity, sulphates), or a log scale (residual sugar, chlorides, total sulfur dioxide). These seem like they'll be good features to work with.\n",
    "\n",
    "## 2: Model Building\n",
    "\n",
    "Now that we've reviewed our data, we'll get started on preparing our data and building a model."
   ]
  },
  {
   "cell_type": "code",
   "execution_count": 5,
   "id": "6f1aca6c",
   "metadata": {},
   "outputs": [
    {
     "name": "stderr",
     "output_type": "stream",
     "text": [
      "/var/folders/8g/sl1y903151z6d44bh4jxcln40000gn/T/ipykernel_1265/2761459272.py:1: UserWarning: Pandas doesn't allow columns to be created via a new attribute name - see https://pandas.pydata.org/pandas-docs/stable/indexing.html#attribute-access\n",
      "  data.x_train, data.x_test, data.y_train, data.y_test = train_test_split(data, data['quality'], test_size = 0.3)\n"
     ]
    },
    {
     "data": {
      "text/html": [
       "<div>\n",
       "<style scoped>\n",
       "    .dataframe tbody tr th:only-of-type {\n",
       "        vertical-align: middle;\n",
       "    }\n",
       "\n",
       "    .dataframe tbody tr th {\n",
       "        vertical-align: top;\n",
       "    }\n",
       "\n",
       "    .dataframe thead th {\n",
       "        text-align: right;\n",
       "    }\n",
       "</style>\n",
       "<table border=\"1\" class=\"dataframe\">\n",
       "  <thead>\n",
       "    <tr style=\"text-align: right;\">\n",
       "      <th></th>\n",
       "      <th>fixed acidity</th>\n",
       "      <th>volatile acidity</th>\n",
       "      <th>citric acid</th>\n",
       "      <th>residual sugar</th>\n",
       "      <th>chlorides</th>\n",
       "      <th>free sulfur dioxide</th>\n",
       "      <th>total sulfur dioxide</th>\n",
       "      <th>density</th>\n",
       "      <th>pH</th>\n",
       "      <th>sulphates</th>\n",
       "      <th>alcohol</th>\n",
       "      <th>quality</th>\n",
       "    </tr>\n",
       "  </thead>\n",
       "  <tbody>\n",
       "    <tr>\n",
       "      <th>308</th>\n",
       "      <td>10.3</td>\n",
       "      <td>0.430</td>\n",
       "      <td>0.44</td>\n",
       "      <td>2.40</td>\n",
       "      <td>0.214</td>\n",
       "      <td>5.0</td>\n",
       "      <td>12.0</td>\n",
       "      <td>0.99940</td>\n",
       "      <td>3.19</td>\n",
       "      <td>0.63</td>\n",
       "      <td>9.5</td>\n",
       "      <td>6</td>\n",
       "    </tr>\n",
       "    <tr>\n",
       "      <th>1494</th>\n",
       "      <td>6.4</td>\n",
       "      <td>0.310</td>\n",
       "      <td>0.09</td>\n",
       "      <td>1.40</td>\n",
       "      <td>0.066</td>\n",
       "      <td>15.0</td>\n",
       "      <td>28.0</td>\n",
       "      <td>0.99459</td>\n",
       "      <td>3.42</td>\n",
       "      <td>0.70</td>\n",
       "      <td>10.0</td>\n",
       "      <td>7</td>\n",
       "    </tr>\n",
       "    <tr>\n",
       "      <th>483</th>\n",
       "      <td>10.6</td>\n",
       "      <td>0.360</td>\n",
       "      <td>0.60</td>\n",
       "      <td>2.20</td>\n",
       "      <td>0.152</td>\n",
       "      <td>7.0</td>\n",
       "      <td>18.0</td>\n",
       "      <td>0.99860</td>\n",
       "      <td>3.04</td>\n",
       "      <td>1.06</td>\n",
       "      <td>9.4</td>\n",
       "      <td>5</td>\n",
       "    </tr>\n",
       "    <tr>\n",
       "      <th>65</th>\n",
       "      <td>7.2</td>\n",
       "      <td>0.725</td>\n",
       "      <td>0.05</td>\n",
       "      <td>4.65</td>\n",
       "      <td>0.086</td>\n",
       "      <td>4.0</td>\n",
       "      <td>11.0</td>\n",
       "      <td>0.99620</td>\n",
       "      <td>3.41</td>\n",
       "      <td>0.39</td>\n",
       "      <td>10.9</td>\n",
       "      <td>5</td>\n",
       "    </tr>\n",
       "    <tr>\n",
       "      <th>1035</th>\n",
       "      <td>10.1</td>\n",
       "      <td>0.370</td>\n",
       "      <td>0.34</td>\n",
       "      <td>2.40</td>\n",
       "      <td>0.085</td>\n",
       "      <td>5.0</td>\n",
       "      <td>17.0</td>\n",
       "      <td>0.99683</td>\n",
       "      <td>3.17</td>\n",
       "      <td>0.65</td>\n",
       "      <td>10.6</td>\n",
       "      <td>7</td>\n",
       "    </tr>\n",
       "    <tr>\n",
       "      <th>...</th>\n",
       "      <td>...</td>\n",
       "      <td>...</td>\n",
       "      <td>...</td>\n",
       "      <td>...</td>\n",
       "      <td>...</td>\n",
       "      <td>...</td>\n",
       "      <td>...</td>\n",
       "      <td>...</td>\n",
       "      <td>...</td>\n",
       "      <td>...</td>\n",
       "      <td>...</td>\n",
       "      <td>...</td>\n",
       "    </tr>\n",
       "    <tr>\n",
       "      <th>937</th>\n",
       "      <td>12.0</td>\n",
       "      <td>0.630</td>\n",
       "      <td>0.50</td>\n",
       "      <td>1.40</td>\n",
       "      <td>0.071</td>\n",
       "      <td>6.0</td>\n",
       "      <td>26.0</td>\n",
       "      <td>0.99791</td>\n",
       "      <td>3.07</td>\n",
       "      <td>0.60</td>\n",
       "      <td>10.4</td>\n",
       "      <td>4</td>\n",
       "    </tr>\n",
       "    <tr>\n",
       "      <th>1175</th>\n",
       "      <td>6.5</td>\n",
       "      <td>0.610</td>\n",
       "      <td>0.00</td>\n",
       "      <td>2.20</td>\n",
       "      <td>0.095</td>\n",
       "      <td>48.0</td>\n",
       "      <td>59.0</td>\n",
       "      <td>0.99541</td>\n",
       "      <td>3.61</td>\n",
       "      <td>0.70</td>\n",
       "      <td>11.5</td>\n",
       "      <td>6</td>\n",
       "    </tr>\n",
       "    <tr>\n",
       "      <th>555</th>\n",
       "      <td>15.5</td>\n",
       "      <td>0.645</td>\n",
       "      <td>0.49</td>\n",
       "      <td>4.20</td>\n",
       "      <td>0.095</td>\n",
       "      <td>10.0</td>\n",
       "      <td>23.0</td>\n",
       "      <td>1.00315</td>\n",
       "      <td>2.92</td>\n",
       "      <td>0.74</td>\n",
       "      <td>11.1</td>\n",
       "      <td>5</td>\n",
       "    </tr>\n",
       "    <tr>\n",
       "      <th>850</th>\n",
       "      <td>9.3</td>\n",
       "      <td>0.430</td>\n",
       "      <td>0.44</td>\n",
       "      <td>1.90</td>\n",
       "      <td>0.085</td>\n",
       "      <td>9.0</td>\n",
       "      <td>22.0</td>\n",
       "      <td>0.99708</td>\n",
       "      <td>3.28</td>\n",
       "      <td>0.55</td>\n",
       "      <td>9.5</td>\n",
       "      <td>5</td>\n",
       "    </tr>\n",
       "    <tr>\n",
       "      <th>1426</th>\n",
       "      <td>7.7</td>\n",
       "      <td>0.230</td>\n",
       "      <td>0.37</td>\n",
       "      <td>1.80</td>\n",
       "      <td>0.046</td>\n",
       "      <td>23.0</td>\n",
       "      <td>60.0</td>\n",
       "      <td>0.99710</td>\n",
       "      <td>3.41</td>\n",
       "      <td>0.71</td>\n",
       "      <td>12.1</td>\n",
       "      <td>6</td>\n",
       "    </tr>\n",
       "  </tbody>\n",
       "</table>\n",
       "<p>1119 rows × 12 columns</p>\n",
       "</div>"
      ],
      "text/plain": [
       "      fixed acidity  volatile acidity  citric acid  residual sugar  chlorides  \\\n",
       "308            10.3             0.430         0.44            2.40      0.214   \n",
       "1494            6.4             0.310         0.09            1.40      0.066   \n",
       "483            10.6             0.360         0.60            2.20      0.152   \n",
       "65              7.2             0.725         0.05            4.65      0.086   \n",
       "1035           10.1             0.370         0.34            2.40      0.085   \n",
       "...             ...               ...          ...             ...        ...   \n",
       "937            12.0             0.630         0.50            1.40      0.071   \n",
       "1175            6.5             0.610         0.00            2.20      0.095   \n",
       "555            15.5             0.645         0.49            4.20      0.095   \n",
       "850             9.3             0.430         0.44            1.90      0.085   \n",
       "1426            7.7             0.230         0.37            1.80      0.046   \n",
       "\n",
       "      free sulfur dioxide  total sulfur dioxide  density    pH  sulphates  \\\n",
       "308                   5.0                  12.0  0.99940  3.19       0.63   \n",
       "1494                 15.0                  28.0  0.99459  3.42       0.70   \n",
       "483                   7.0                  18.0  0.99860  3.04       1.06   \n",
       "65                    4.0                  11.0  0.99620  3.41       0.39   \n",
       "1035                  5.0                  17.0  0.99683  3.17       0.65   \n",
       "...                   ...                   ...      ...   ...        ...   \n",
       "937                   6.0                  26.0  0.99791  3.07       0.60   \n",
       "1175                 48.0                  59.0  0.99541  3.61       0.70   \n",
       "555                  10.0                  23.0  1.00315  2.92       0.74   \n",
       "850                   9.0                  22.0  0.99708  3.28       0.55   \n",
       "1426                 23.0                  60.0  0.99710  3.41       0.71   \n",
       "\n",
       "      alcohol  quality  \n",
       "308       9.5        6  \n",
       "1494     10.0        7  \n",
       "483       9.4        5  \n",
       "65       10.9        5  \n",
       "1035     10.6        7  \n",
       "...       ...      ...  \n",
       "937      10.4        4  \n",
       "1175     11.5        6  \n",
       "555      11.1        5  \n",
       "850       9.5        5  \n",
       "1426     12.1        6  \n",
       "\n",
       "[1119 rows x 12 columns]"
      ]
     },
     "execution_count": 5,
     "metadata": {},
     "output_type": "execute_result"
    }
   ],
   "source": [
    "data.x_train, data.x_test, data.y_train, data.y_test = train_test_split(data, data['quality'], test_size = 0.3)\n",
    "data.x_train"
   ]
  },
  {
   "cell_type": "code",
   "execution_count": 12,
   "id": "fc33b117",
   "metadata": {},
   "outputs": [],
   "source": [
    "#group the items into our components\n",
    "def assign_topics(nmf_model, new_data):\n",
    "    newMat = nmf_model.transform(new_data)\n",
    "    \n",
    "    preds = []\n",
    "    for i in range(len(new_data)):\n",
    "        preds.append(pd.DataFrame(newMat).loc[i].idxmax())\n",
    "        \n",
    "    #return a data series of predictions\n",
    "    return pd.Series(preds)\n",
    "\n",
    "def build_nmf(train_data, n_components):\n",
    "    #build an nmf model and train it using our features\n",
    "    nmf_model = NMF(n_components, init = 'nndsvda', max_iter = 3000)\n",
    "    topic_mat = nmf_model.fit_transform(train_data)\n",
    "    #make a data frame for the components\n",
    "    components_df = pd.DataFrame(nmf_model.components_, columns=train_data.columns)\n",
    "    #determine quality for each group\n",
    "    \n",
    "    preds = assign_topics(nmf_model, train_data)\n",
    "    preds = preds.reindex(train_data.index)\n",
    "    topic_qual = []\n",
    "    for i in range(n_components):\n",
    "        if len(train_data[preds == i]) > 0:\n",
    "            avequal = train_data[preds == i].quality.mean()\n",
    "            topic_qual.append(avequal)\n",
    "        else:\n",
    "            topic_qual.append('')\n",
    "    \n",
    "    #return the nmf model, and the components frame from the models\n",
    "    return nmf_model, components_df, topic_qual\n",
    "\n",
    "#turn the topics into categories\n",
    "def assign_quality(preds, topic_qual):\n",
    "    tt = []\n",
    "    for x in preds:\n",
    "        tt.append(topic_qual[x])   \n",
    "        \n",
    "    return tt\n",
    "\n",
    "def run_all_steps(n_components, train_data, test_data):\n",
    "    #run all the steps\n",
    "    nmf_model, components_df, topic_qual = build_nmf(train_data, n_components)\n",
    "    preds = assign_topics(nmf_model, test_data)\n",
    "    return assign_quality(preds, topic_qual)\n",
    "    \n",
    "#finds the accuracy rate of the prediction\n",
    "def rsme(Y_true, Y_pred):\n",
    "    return math.sqrt(np.square(np.subtract(Y_true, Y_pred)).mean())"
   ]
  },
  {
   "cell_type": "code",
   "execution_count": 13,
   "id": "9756d1da",
   "metadata": {},
   "outputs": [],
   "source": [
    "n_components = 3\n",
    "#turn words into features\n",
    "nmf_model, components_df, topic_qual = build_nmf(data.x_train, n_components)"
   ]
  },
  {
   "cell_type": "markdown",
   "id": "b9b1af13",
   "metadata": {},
   "source": [
    "## 3: Results Evaluation\n",
    "\n",
    "Now that we've constructed out nmf model, we can use it to group our wines, and then assign a quality for each based in this grouping. We'll be using the mean squared error to evaluation our tests."
   ]
  },
  {
   "cell_type": "code",
   "execution_count": 14,
   "id": "484db621",
   "metadata": {},
   "outputs": [
    {
     "data": {
      "text/plain": [
       "0.8533755928284618"
      ]
     },
     "execution_count": 14,
     "metadata": {},
     "output_type": "execute_result"
    }
   ],
   "source": [
    "preds = assign_topics(nmf_model, data.x_test)\n",
    "data.y_test = assign_quality(preds, topic_qual)\n",
    "rsme(data.x_test['quality'], data.y_test)"
   ]
  },
  {
   "cell_type": "code",
   "execution_count": 23,
   "id": "f1b91c51",
   "metadata": {},
   "outputs": [
    {
     "name": "stderr",
     "output_type": "stream",
     "text": [
      "/Users/ben/opt/anaconda3/lib/python3.9/site-packages/sklearn/decomposition/_nmf.py:1637: ConvergenceWarning: Maximum number of iterations 3000 reached. Increase it to improve convergence.\n",
      "  warnings.warn(\n"
     ]
    }
   ],
   "source": [
    "trials = []\n",
    "for i in range(1, 11):\n",
    "    n_components = i\n",
    "    rezz = run_all_steps(n_components, data.x_train, data.x_test)\n",
    "    trials.append(rsme(data.x_test['quality'], pd.Series(rezz)))"
   ]
  },
  {
   "cell_type": "code",
   "execution_count": 24,
   "id": "e45ee7b6",
   "metadata": {},
   "outputs": [
    {
     "data": {
      "image/png": "[encoded data removed]",
      "text/plain": [
       "<Figure size 432x288 with 1 Axes>"
      ]
     },
     "metadata": {
      "needs_background": "light"
     },
     "output_type": "display_data"
    }
   ],
   "source": [
    "plt.scatter(range(1, 11), trials)\n",
    "plt.plot(range(1, 11), trials)\n",
    "plt.show()"
   ]
  },
  {
   "cell_type": "markdown",
   "id": "1de24f0a",
   "metadata": {},
   "source": [
    "We do see that the number of components does affect the rsme, but it's notable that the variance is very small, so impact is fairly negligible.\n",
    "\n",
    "As a comparison, I want to look at the error if I just use the average quality of all the wines."
   ]
  },
  {
   "cell_type": "code",
   "execution_count": 25,
   "id": "b4520e6c",
   "metadata": {},
   "outputs": [
    {
     "data": {
      "text/plain": [
       "0.8450721612616641"
      ]
     },
     "execution_count": 25,
     "metadata": {},
     "output_type": "execute_result"
    }
   ],
   "source": [
    "qualave = [data.x_train['quality'].mean()] * len(data.y_test)\n",
    "rsme(data.x_test['quality'], qualave)"
   ]
  },
  {
   "cell_type": "markdown",
   "id": "a0a5ceb9",
   "metadata": {},
   "source": [
    "Unfortunately, we see that this is basically in line with our quality rates with our grouping. This is the most important learning here, showing that our work with the matrix factorization did not improve our ability to assign a quality for these wines.\n",
    "\n",
    "## 4: Supervized Learning Comparison\n",
    "\n",
    "Since we were unsuccessful with our unsupervized learning, I wanted to attempt this same problem with a supervized learning approach. I wanted to make a quick try at this with a random forest classifier."
   ]
  },
  {
   "cell_type": "code",
   "execution_count": 26,
   "id": "c85544e4",
   "metadata": {},
   "outputs": [
    {
     "data": {
      "text/plain": [
       "0.5143766454003655"
      ]
     },
     "execution_count": 26,
     "metadata": {},
     "output_type": "execute_result"
    }
   ],
   "source": [
    "clf = RandomForestClassifier(max_depth=2, random_state=0)\n",
    "clf.fit(data.x_train, data.x_train['quality'])\n",
    "test_clf = clf.predict(data.x_test)\n",
    "rsme(data.x_test['quality'], test_clf)"
   ]
  },
  {
   "cell_type": "markdown",
   "id": "bcdc59c7",
   "metadata": {},
   "source": [
    "## 5: Conclusion\n",
    "\n",
    "We do see a significantly stronger result with our random forest classifier, and I think there are several reasons for this. First, I think that this format of rich features in a dense matrix is quite different from the data sets we used for our recommendation systems, and I think the methods we've learned are better suited for those types of problems. Second, while I understand a lot of the concepts of what we've been doing, I think I need more learning and practice developing unsupervized learning algorithms. But I do feel satisfied that I already have a lot more knowledge in this field than I did a month ago.\n",
    "\n",
    "For further improvement, I would look at other unsupervized machine learning techniques, and I would look at ways that I can better apply my nmf_model, because we do know that mathematically it is learning something about our features array that can be useful."
   ]
  },
  {
   "cell_type": "code",
   "execution_count": null,
   "id": "f6a79190",
   "metadata": {},
   "outputs": [],
   "source": [
    "Github repository: "
   ]
  },
  {
   "cell_type": "code",
   "execution_count": null,
   "id": "eef79b48",
   "metadata": {},
   "outputs": [],
   "source": []
  }
 ],
 "metadata": {
  "kernelspec": {
   "display_name": "Python 3 (ipykernel)",
   "language": "python",
   "name": "python3"
  },
  "language_info": {
   "codemirror_mode": {
    "name": "ipython",
    "version": 3
   },
   "file_extension": ".py",
   "mimetype": "text/x-python",
   "name": "python",
   "nbconvert_exporter": "python",
   "pygments_lexer": "ipython3",
   "version": "3.9.12"
  }
 },
 "nbformat": 4,
 "nbformat_minor": 5
}
